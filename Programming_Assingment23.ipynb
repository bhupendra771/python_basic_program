{
 "cells": [
  {
   "cell_type": "code",
   "execution_count": 43,
   "id": "ba093977",
   "metadata": {},
   "outputs": [
    {
     "data": {
      "text/plain": [
       "False"
      ]
     },
     "execution_count": 43,
     "metadata": {},
     "output_type": "execute_result"
    }
   ],
   "source": [
    "# Question 1\n",
    "# Create a function that takes a number as an argument and returns True or False depending on whether the number is symmetrical or not. A number is symmetrical when it is the same as its reverse.\n",
    "# Examples\n",
    "# is_symmetrical(7227) ➞ True\n",
    "\n",
    "# is_symmetrical(12567) ➞ False\n",
    "\n",
    "# is_symmetrical(44444444) ➞ True\n",
    "\n",
    "# is_symmetrical(9939) ➞ False\n",
    "\n",
    "# is_symmetrical(1112111) ➞ True\n",
    "\n",
    "def is_symmetrical(n):\n",
    "    x3 = 0\n",
    "    n5 = n\n",
    "    while(n>0):\n",
    "        x = n%10\n",
    "        x3 = x3*10 +x\n",
    "        n = n//10\n",
    "  \n",
    "   \n",
    "    if x3 == n5:\n",
    "        \n",
    "        return True\n",
    "    else: return False\n",
    "        \n",
    "    \n",
    "        \n",
    "is_symmetrical(9939)\n",
    "    "
   ]
  },
  {
   "cell_type": "code",
   "execution_count": 2,
   "id": "2ff59f5c",
   "metadata": {},
   "outputs": [
    {
     "name": "stdout",
     "output_type": "stream",
     "text": [
      "24\n"
     ]
    }
   ],
   "source": [
    "# Question 2\n",
    "# Given a string of numbers separated by a comma and space, return the product of the numbers.\n",
    "# Examples\n",
    "# multiply_nums(\"2, 3\") ➞ 6\n",
    "\n",
    "# multiply_nums(\"1, 2, 3, 4\") ➞ 24\n",
    "\n",
    "# multiply_nums(\"54, 75, 453, 0\") ➞ 0\n",
    "\n",
    "# multiply_nums(\"10, -2\") ➞ -20\n",
    "\n",
    "def multiply_nums(str1):\n",
    "    tep = 1\n",
    "    for i in str1.split(','):\n",
    "            tep= tep * (int(i))\n",
    "    print(tep)\n",
    "            \n",
    "        \n",
    "    \n",
    "\n",
    "multiply_nums(\"1, 2, 3, 4\")"
   ]
  },
  {
   "cell_type": "code",
   "execution_count": 58,
   "id": "04bd8ac3",
   "metadata": {},
   "outputs": [
    {
     "data": {
      "text/plain": [
       "9414"
      ]
     },
     "execution_count": 58,
     "metadata": {},
     "output_type": "execute_result"
    }
   ],
   "source": [
    "# Question 3\n",
    "# Create a function that squares every digit of a number.\n",
    "# Examples\n",
    "# square_digits(9119) ➞ 811181\n",
    "\n",
    "# square_digits(2483) ➞ 416649\n",
    "\n",
    "# square_digits(3212) ➞ 9414\n",
    "# Notes\n",
    "# The function receives an integer and must return an integer.\n",
    "# def square_digits(n2): \n",
    "#     import math\n",
    "#     num1 = 0\n",
    "#     while(n2>0):\n",
    "#         x2 = n2%10\n",
    "        \n",
    "#         num1 = num1*10+x2*x2\n",
    "#         n2 = n2//10\n",
    "#         print(x2)\n",
    "\n",
    "\n",
    "def square_digits(n2): \n",
    "    return int(''.join([str(int(i)**2) for i in str(n2)]))\n",
    "\n",
    "square_digits(3212)\n",
    "\n",
    "\n",
    "        \n"
   ]
  },
  {
   "cell_type": "code",
   "execution_count": 76,
   "id": "8ebc717e",
   "metadata": {},
   "outputs": [
    {
     "data": {
      "text/plain": [
       "[5, 7, 8, 9, 10, 15]"
      ]
     },
     "execution_count": 76,
     "metadata": {},
     "output_type": "execute_result"
    }
   ],
   "source": [
    "# Question 4\n",
    "# Create a function that sorts a list and removes all duplicate items from it.\n",
    "# Examples\n",
    "# setify([1, 3, 3, 5, 5]) ➞ [1, 3, 5]\n",
    "\n",
    "# setify([4, 4, 4, 4]) ➞ [4]\n",
    "\n",
    "# setify([5, 7, 8, 9, 10, 15]) ➞ [5, 7, 8, 9, 10, 15]\n",
    "\n",
    "# setify([3, 3, 3, 2, 1]) ➞ [1, 2, 3]\n",
    "def setify(lst2):\n",
    "    return sorted([lst2[i] for i in range(len(lst2)) if lst2[i] not in lst2[i+1:]])\n",
    "#     l =[]\n",
    "#     for i in range (len(lst2)):\n",
    "        \n",
    "#         if lst2[i] not in lst2[i+1:]:\n",
    "#             l.append(lst2[i])\n",
    "#     print(l)\n",
    "           \n",
    "  \n",
    "        \n",
    "#     return [i for i in lst2 if i]\n",
    "setify([5, 7, 8, 9, 10, 15])"
   ]
  },
  {
   "cell_type": "code",
   "execution_count": 86,
   "id": "80b2749d",
   "metadata": {},
   "outputs": [
    {
     "data": {
      "text/plain": [
       "6"
      ]
     },
     "execution_count": 86,
     "metadata": {},
     "output_type": "execute_result"
    }
   ],
   "source": [
    "# Question 5\n",
    "# Create a function that returns the mean of all digits.\n",
    "# Examples\n",
    "# mean(42) ➞ 3\n",
    "\n",
    "# mean(12345) ➞ 3\n",
    "\n",
    "# mean(666) ➞ 6\n",
    "# Notes\n",
    "# •\tThe mean of all digits is the sum of digits / how many digits there are (e.g. mean of digits in 512 is (5+1+2)/3(number of digits) = 8/3=2).\n",
    "# •\tThe mean will always be an integer.\n",
    "def mean(n5):\n",
    "    s5 = 0\n",
    "    digit = 0\n",
    "    while(n5>0):\n",
    "        x5 =  n5%10\n",
    "        n5 = n5//10\n",
    "        digit +=1\n",
    "        \n",
    "        s5 = s5+x5\n",
    "    return round(s5/digit)\n",
    "\n",
    "mean(666)"
   ]
  },
  {
   "cell_type": "code",
   "execution_count": null,
   "id": "435da3b7",
   "metadata": {},
   "outputs": [],
   "source": []
  }
 ],
 "metadata": {
  "kernelspec": {
   "display_name": "Python 3 (ipykernel)",
   "language": "python",
   "name": "python3"
  },
  "language_info": {
   "codemirror_mode": {
    "name": "ipython",
    "version": 3
   },
   "file_extension": ".py",
   "mimetype": "text/x-python",
   "name": "python",
   "nbconvert_exporter": "python",
   "pygments_lexer": "ipython3",
   "version": "3.10.4"
  }
 },
 "nbformat": 4,
 "nbformat_minor": 5
}
