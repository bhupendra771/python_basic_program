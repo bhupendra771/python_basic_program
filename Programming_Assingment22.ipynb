{
 "cells": [
  {
   "cell_type": "code",
   "execution_count": 1,
   "id": "5dd8b1ef",
   "metadata": {},
   "outputs": [
    {
     "data": {
      "text/plain": [
       "[]"
      ]
     },
     "execution_count": 1,
     "metadata": {},
     "output_type": "execute_result"
    }
   ],
   "source": [
    "# Question1\n",
    "# Create a function that takes three parameters where:\n",
    "# •\tx is the start of the range (inclusive).\n",
    "# •\ty is the end of the range (inclusive).\n",
    "# •\tn is the divisor to be checked against.\n",
    "# Return an ordered list with numbers in the range that are divisible by the third parameter n. Return an empty list if there are no numbers that are divisible by n.\n",
    "# Examples\n",
    "# list_operation(1, 10, 3) ➞ [3, 6, 9]\n",
    "\n",
    "# list_operation(7, 9, 2) ➞ [8]\n",
    "\n",
    "# list_operation(15, 20, 7) ➞ []\n",
    "\n",
    "def list_operation(x,y,n):\n",
    "    return [i for i in range(x, y) if i%n==0] \n",
    "\n",
    "list_operation(15, 20, 7)\n",
    "    "
   ]
  },
  {
   "cell_type": "code",
   "execution_count": 2,
   "id": "a15d8be4",
   "metadata": {},
   "outputs": [],
   "source": [
    "# Question2\n",
    "# Create a function that takes in two lists and returns True if the second list follows the first list by one element, and False otherwise. In other words, determine if the second list is the first list shifted to the right by 1.\n",
    "# Examples\n",
    "# simon_says([1, 2], [5, 1]) ➞ True\n",
    "\n",
    "# simon_says([1, 2], [5, 5]) ➞ False\n",
    "\n",
    "# simon_says([1, 2, 3, 4, 5], [0, 1, 2, 3, 4]) ➞ True\n",
    "\n",
    "# simon_says([1, 2, 3, 4, 5], [5, 5, 1, 2, 3]) ➞ False\n",
    "# Notes\n",
    "# •\tBoth input lists will be of the same length, and will have a minimum length of 2.\n",
    "# •\tThe values of the 0-indexed element in the second list and the n-1th indexed element in the first list do not matter.\n"
   ]
  },
  {
   "cell_type": "code",
   "execution_count": 3,
   "id": "51a97c1c",
   "metadata": {},
   "outputs": [
    {
     "data": {
      "text/plain": [
       "'CHLN'"
      ]
     },
     "execution_count": 3,
     "metadata": {},
     "output_type": "execute_result"
    }
   ],
   "source": [
    "# Question3\n",
    "# A group of friends have decided to start a secret society. The name will be the first letter of each of their names, sorted in alphabetical order.\n",
    "# Create a function that takes in a list of names and returns the name of the secret society.\n",
    "# Examples\n",
    "# society_name([\"Adam\", \"Sarah\", \"Malcolm\"]) ➞ \"AMS\"\n",
    "\n",
    "# society_name([\"Harry\", \"Newt\", \"Luna\", \"Cho\"]) ➞ \"CHLN\"\n",
    "\n",
    "# society_name([\"Phoebe\", \"Chandler\", \"Rachel\", \"Ross\", \"Monica\", \"Joey\"])\n",
    "\n",
    "\n",
    "def society_name(lst1):\n",
    "#     s =[]\n",
    "#     for i in lst1:\n",
    "#         s.append(i[0])\n",
    "  \n",
    "        \n",
    "#     str1 = ''.join(sorted(s))\n",
    "        \n",
    "  \n",
    "       \n",
    "    return ''.join([i[0] for i in sorted(lst1)])\n",
    "    \n",
    "    \n",
    "society_name([\"Harry\", \"Newt\", \"Luna\", \"Cho\"])\n"
   ]
  },
  {
   "cell_type": "code",
   "execution_count": 26,
   "id": "8ebe6ef4",
   "metadata": {},
   "outputs": [
    {
     "data": {
      "text/plain": [
       "False"
      ]
     },
     "execution_count": 26,
     "metadata": {},
     "output_type": "execute_result"
    }
   ],
   "source": [
    "# Question4\n",
    "# An isogram is a word that has no duplicate letters. Create a function that takes a string and returns either True or False depending on whether or not it's an \"isogram\".\n",
    "# Examples\n",
    "# is_isogram(\"Algorism\") ➞ True\n",
    "\n",
    "# is_isogram(\"PasSword\") ➞ False\n",
    "# # Not case sensitive.\n",
    "\n",
    "# is_isogram(\"Consecutive\") ➞ False\n",
    "# Notes\n",
    "# •\tIgnore letter case (should not be case sensitive).\n",
    "# •\tAll test cases contain valid one word strings.\n",
    "\n",
    "def is_isogram(wrd):\n",
    "    for i in range (len(wrd)):\n",
    "#         print(wrd.lower().count(wrd[i]))\n",
    "        \n",
    "        if (wrd.lower().count(wrd[i]))>1:\n",
    "            return False\n",
    "        \n",
    "    else : \n",
    "        return True \n",
    "        \n",
    " \n",
    "    \n",
    "                        \n",
    "#     count = []\n",
    "#     check = False\n",
    "#     for i in wrd.lower():\n",
    "#         if i not in count:\n",
    "#             count.append(i)\n",
    "#             check = True\n",
    "#         else:\n",
    "#             check = False\n",
    "#             break\n",
    "    \n",
    "#     return check\n",
    "\n",
    "            \n",
    "   \n",
    "        \n",
    "        \n",
    "        \n",
    "is_isogram(\"PasSword\")"
   ]
  },
  {
   "cell_type": "code",
   "execution_count": 38,
   "id": "4eb4b599",
   "metadata": {},
   "outputs": [
    {
     "data": {
      "text/plain": [
       "True"
      ]
     },
     "execution_count": 38,
     "metadata": {},
     "output_type": "execute_result"
    }
   ],
   "source": [
    "# Question5\n",
    "# Create a function that takes a string and returns True or False, depending on whether the characters are in order or not.\n",
    "# Examples\n",
    "# is_in_order(\"abc\") ➞ True\n",
    "\n",
    "# is_in_order(\"edabit\") ➞ False\n",
    "\n",
    "# is_in_order(\"123\") ➞ True\n",
    "\n",
    "# is_in_order(\"xyzz\") ➞ True\n",
    "# Notes\n",
    "# You don't have to handle empty strings.\n",
    "\n",
    "def is_in_order(n2):\n",
    "    new = ''.join(sorted(n2))\n",
    "    if n2 == new:\n",
    "        return True\n",
    "    else:\n",
    "        return False\n",
    "\n",
    "is_in_order('')\n"
   ]
  },
  {
   "cell_type": "code",
   "execution_count": null,
   "id": "493a4d04",
   "metadata": {},
   "outputs": [],
   "source": []
  },
  {
   "cell_type": "code",
   "execution_count": null,
   "id": "01b08c9d",
   "metadata": {},
   "outputs": [],
   "source": []
  }
 ],
 "metadata": {
  "kernelspec": {
   "display_name": "Python 3 (ipykernel)",
   "language": "python",
   "name": "python3"
  },
  "language_info": {
   "codemirror_mode": {
    "name": "ipython",
    "version": 3
   },
   "file_extension": ".py",
   "mimetype": "text/x-python",
   "name": "python",
   "nbconvert_exporter": "python",
   "pygments_lexer": "ipython3",
   "version": "3.10.4"
  }
 },
 "nbformat": 4,
 "nbformat_minor": 5
}
