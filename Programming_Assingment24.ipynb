{
 "cells": [
  {
   "cell_type": "code",
   "execution_count": 5,
   "id": "295d5c8f",
   "metadata": {},
   "outputs": [
    {
     "data": {
      "text/plain": [
       "[1, 2, 3, 40, 5, 6, 7, 80, 9, 10, 11, 120, 13, 14, 15]"
      ]
     },
     "execution_count": 5,
     "metadata": {},
     "output_type": "execute_result"
    }
   ],
   "source": [
    "# Question1\n",
    "# Create a function that takes an integer and returns a list from 1 to the given number, where:\n",
    "# 1.\tIf the number can be divided evenly by 4, amplify it by 10 (i.e. return 10 times the number).\n",
    "# 2.\tIf the number cannot be divided evenly by 4, simply return the number.\n",
    "# Examples\n",
    "# amplify(4) ➞ [1, 2, 3, 40]\n",
    "\n",
    "# amplify(3) ➞ [1, 2, 3]\n",
    "\n",
    "# amplify(25) ➞ [1, 2, 3, 40, 5, 6, 7, 80, 9, 10, 11, 120, 13, 14, 15, 160, 17, 18, 19, 200, 21, 22, 23, 240, 25]\n",
    "# Notes\n",
    "# •\tThe given integer will always be equal to or greater than 1.\n",
    "# •\tInclude the number (see example above).\n",
    "# •\tTo perform this problem with its intended purpose, try doing it with list comprehensions. If that's too difficult, just solve the challenge any way you can.\n",
    "\n",
    "def amplify(n):\n",
    "    lst = []\n",
    "    for i in range (1, n+1):\n",
    "        if i%4 != 0:\n",
    "            lst.append(i)\n",
    "        else:\n",
    "            lst.append(i*10)\n",
    "    return lst\n",
    "\n",
    "amplify(15)"
   ]
  },
  {
   "cell_type": "code",
   "execution_count": 21,
   "id": "2f032440",
   "metadata": {},
   "outputs": [
    {
     "data": {
      "text/plain": [
       "7"
      ]
     },
     "execution_count": 21,
     "metadata": {},
     "output_type": "execute_result"
    }
   ],
   "source": [
    "# Question2\n",
    "# Create a function that takes a list of numbers and return the number that's unique.\n",
    "# Examples\n",
    "# unique([3, 3, 3, 7, 3, 3]) ➞ 7\n",
    "\n",
    "# unique([0, 0, 0.77, 0, 0]) ➞ 0.77\n",
    "\n",
    "# unique([0, 1, 1, 1, 1, 1, 1, 1]) ➞ 0\n",
    "# Notes\n",
    "# Test cases will always have exactly one unique number while all others are the same.\n",
    "\n",
    "def unique(n1):\n",
    "    lst1 = list(set(n1))   \n",
    "    for i in lst1:\n",
    "        if n1.count(i) == 1:\n",
    "            return i\n",
    "\n",
    "unique([3, 3, 3, 7, 3, 3])\n",
    "\n"
   ]
  },
  {
   "cell_type": "code",
   "execution_count": 56,
   "id": "0f2ce5a7",
   "metadata": {},
   "outputs": [
    {
     "name": "stdout",
     "output_type": "stream",
     "text": [
      "4.44\n",
      "Area of Circle is - 61.932\n",
      "Perimeter of Circle is- 27.897\n"
     ]
    }
   ],
   "source": [
    "# Question3\n",
    "# Your task is to create a Circle constructor that creates a circle with a radius provided by an argument. The circles constructed must have two getters getArea() (PIr^2) and getPerimeter() (2PI*r) which give both respective areas and perimeter (circumference).\n",
    "# For help with this class, I have provided you with a Rectangle constructor which you can use as a base example.\n",
    "# Examples\n",
    "# circy = Circle(11)\n",
    "# circy.getArea()\n",
    "\n",
    "# # Should return 380.132711084365\n",
    "\n",
    "# circy = Circle(4.44)\n",
    "# circy.getPerimeter()\n",
    "\n",
    "# # Should return 27.897342763877365\n",
    "# Notes\n",
    "# Round results up to the nearest integer.\n",
    "\n",
    "class Circle():\n",
    "    import math\n",
    "    def __init__(self,r):\n",
    "       \n",
    "        self.r = r\n",
    "        print(r)\n",
    "    def getArea(self):\n",
    "        \n",
    "        print(\"Area of Circle is -\",round(self.math.pi*self.r*self.r,3))\n",
    "    def getPerimeter(self):\n",
    "        \n",
    "        print(\"Perimeter of Circle is-\",round (2*self.math.pi*self.r,3))\n",
    "    \n",
    "\n",
    "circy = Circle(4.44)\n",
    "circy.getArea()\n",
    "circy.getPerimeter()"
   ]
  },
  {
   "cell_type": "code",
   "execution_count": 101,
   "id": "3b9961fa",
   "metadata": {},
   "outputs": [
    {
     "data": {
      "text/plain": [
       "['Jung', 'Einstein', 'Turing']"
      ]
     },
     "execution_count": 101,
     "metadata": {},
     "output_type": "execute_result"
    }
   ],
   "source": [
    "# Question4\n",
    "# Create a function that takes a list of strings and return a list, sorted from shortest to longest.\n",
    "# Examples\n",
    "# sort_by_length([\"Google\", \"Apple\", \"Microsoft\"])\n",
    "# ➞ [\"Apple\", \"Google\", \"Microsoft\"]\n",
    "\n",
    "# sort_by_length([\"Leonardo\", \"Michelangelo\", \"Raphael\", \"Donatello\"])\n",
    "# ➞ [\"Raphael\", \"Leonardo\", \"Donatello\", \"Michelangelo\"]\n",
    "\n",
    "# sort_by_length([\"Turing\", \"Einstein\", \"Jung\"])\n",
    "# ➞ [\"Jung\", \"Turing\", \"Einstein\"]\n",
    "# Notes\n",
    "# All test cases contain lists with strings of different lengths, so you won't have to deal with multiple strings of the same length.\n",
    "\n",
    "def sort_by_length(lst3):\n",
    "    ls = []\n",
    "    ls1 = []\n",
    "    for i in lst3:\n",
    "        ls.append(len(i))\n",
    "   \n",
    "#     print(sorted(ls))\n",
    "    for i in sorted(ls):\n",
    "        for j in lst3:\n",
    "     \n",
    "            if len(j) == i:\n",
    "#                 print(i, j)\n",
    "                ls1.append(j)\n",
    "   \n",
    "    \n",
    " \n",
    "      \n",
    "    \n",
    "    return list(set(ls1))\n",
    "\n",
    "sort_by_length([\"Turing\", \"Einstein\", \"Jung\"])\n",
    "# sort_by_length([\"Google\", \"Applee\", \"Microsoft\"])\n"
   ]
  },
  {
   "cell_type": "code",
   "execution_count": 121,
   "id": "61704c21",
   "metadata": {},
   "outputs": [
    {
     "data": {
      "text/plain": [
       "True"
      ]
     },
     "execution_count": 121,
     "metadata": {},
     "output_type": "execute_result"
    }
   ],
   "source": [
    "# Question5\n",
    "# Create a function that validates whether three given integers form a Pythagorean triplet. The sum of the squares of the two smallest integers must equal the square of the largest number to be validated.\n",
    "\n",
    "\n",
    "# Examples\n",
    "# is_triplet(3, 4, 5) ➞ True\n",
    "# # 3² + 4² = 25\n",
    "# # 5² = 25\n",
    "\n",
    "# is_triplet(13, 5, 12) ➞ True\n",
    "# # 5² + 12² = 169\n",
    "# # 13² = 169\n",
    "\n",
    "# is_triplet(1, 2, 3) ➞ False\n",
    "# # 1² + 2² = 5\n",
    "# # 3² = 9\n",
    "# Notes\n",
    "# Numbers may not be given in a sorted order.\n",
    "\n",
    "\n",
    "def is_triplet(l1,l2,l3):\n",
    "    lss = sorted([l1,l2,l3])\n",
    "#     for i in lss :\n",
    "#         print(i)\n",
    "    if (lss[0]**2 +lss[1]**2)==lss[2]**2:\n",
    "        return True\n",
    "    \n",
    "    else :\n",
    "        return False\n",
    "        \n",
    "is_triplet(13, 5, 12) "
   ]
  },
  {
   "cell_type": "code",
   "execution_count": null,
   "id": "b1fc14d3",
   "metadata": {},
   "outputs": [],
   "source": []
  }
 ],
 "metadata": {
  "kernelspec": {
   "display_name": "Python 3 (ipykernel)",
   "language": "python",
   "name": "python3"
  },
  "language_info": {
   "codemirror_mode": {
    "name": "ipython",
    "version": 3
   },
   "file_extension": ".py",
   "mimetype": "text/x-python",
   "name": "python",
   "nbconvert_exporter": "python",
   "pygments_lexer": "ipython3",
   "version": "3.10.4"
  }
 },
 "nbformat": 4,
 "nbformat_minor": 5
}
